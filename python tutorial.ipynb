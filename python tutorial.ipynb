{
 "cells": [
  {
   "cell_type": "code",
   "execution_count": null,
   "id": "79561d82",
   "metadata": {},
   "outputs": [
    {
     "data": {
      "text/plain": [
       "'succesfully'"
      ]
     },
     "execution_count": 2,
     "metadata": {},
     "output_type": "execute_result"
    }
   ],
   "source": [
    "s=\"succesfully\"\n",
    "s"
   ]
  },
  {
   "cell_type": "code",
   "execution_count": null,
   "id": "34b61fa5",
   "metadata": {},
   "outputs": [
    {
     "data": {
      "text/plain": [
       "'jay shree ram'"
      ]
     },
     "execution_count": 3,
     "metadata": {},
     "output_type": "execute_result"
    }
   ],
   "source": [
    "s=\"jay shree ram\"\n",
    "s"
   ]
  },
  {
   "cell_type": "code",
   "execution_count": null,
   "id": "5428c867",
   "metadata": {},
   "outputs": [
    {
     "data": {
      "text/plain": [
       "12"
      ]
     },
     "execution_count": 4,
     "metadata": {},
     "output_type": "execute_result"
    }
   ],
   "source": [
    "a=12\n",
    "a"
   ]
  },
  {
   "cell_type": "code",
   "execution_count": null,
   "id": "18bd425e",
   "metadata": {},
   "outputs": [
    {
     "data": {
      "text/plain": [
       "int"
      ]
     },
     "execution_count": 5,
     "metadata": {},
     "output_type": "execute_result"
    }
   ],
   "source": [
    "type(a)"
   ]
  },
  {
   "cell_type": "code",
   "execution_count": null,
   "id": "5fcf018c",
   "metadata": {},
   "outputs": [
    {
     "data": {
      "text/plain": [
       "str"
      ]
     },
     "execution_count": 6,
     "metadata": {},
     "output_type": "execute_result"
    }
   ],
   "source": [
    "type(s)"
   ]
  },
  {
   "cell_type": "code",
   "execution_count": null,
   "id": "5b51b121",
   "metadata": {},
   "outputs": [
    {
     "data": {
      "text/plain": [
       "str"
      ]
     },
     "execution_count": 7,
     "metadata": {},
     "output_type": "execute_result"
    }
   ],
   "source": [
    "r=\"hello world\"\n",
    "r\n",
    "type(r)"
   ]
  },
  {
   "cell_type": "code",
   "execution_count": null,
   "id": "84e21fac",
   "metadata": {},
   "outputs": [
    {
     "data": {
      "text/plain": [
       "'hello world'"
      ]
     },
     "execution_count": 8,
     "metadata": {},
     "output_type": "execute_result"
    }
   ],
   "source": [
    "r"
   ]
  },
  {
   "cell_type": "code",
   "execution_count": null,
   "id": "59627e96",
   "metadata": {},
   "outputs": [],
   "source": [
    "#arithmetic operaters ,-,+,/,*\n"
   ]
  },
  {
   "cell_type": "code",
   "execution_count": null,
   "id": "876ef1bb",
   "metadata": {},
   "outputs": [
    {
     "data": {
      "text/plain": [
       "(13, 34)"
      ]
     },
     "execution_count": 10,
     "metadata": {},
     "output_type": "execute_result"
    }
   ],
   "source": [
    "a=13\n",
    "b=34\n",
    "a,b"
   ]
  },
  {
   "cell_type": "code",
   "execution_count": null,
   "id": "b14c144d",
   "metadata": {},
   "outputs": [
    {
     "data": {
      "text/plain": [
       "47"
      ]
     },
     "execution_count": 11,
     "metadata": {},
     "output_type": "execute_result"
    }
   ],
   "source": [
    "a+b"
   ]
  },
  {
   "cell_type": "code",
   "execution_count": null,
   "id": "de6cc5e5",
   "metadata": {},
   "outputs": [],
   "source": [
    "#relational operators <,>,==,!="
   ]
  },
  {
   "cell_type": "code",
   "execution_count": null,
   "id": "575595b8",
   "metadata": {},
   "outputs": [],
   "source": [
    "a=25\n",
    "b=245"
   ]
  },
  {
   "cell_type": "code",
   "execution_count": null,
   "id": "36550bba",
   "metadata": {},
   "outputs": [
    {
     "data": {
      "text/plain": [
       "True"
      ]
     },
     "execution_count": 2,
     "metadata": {},
     "output_type": "execute_result"
    }
   ],
   "source": [
    "a<b"
   ]
  },
  {
   "cell_type": "code",
   "execution_count": null,
   "id": "e11d2f0a",
   "metadata": {},
   "outputs": [
    {
     "data": {
      "text/plain": [
       "False"
      ]
     },
     "execution_count": 3,
     "metadata": {},
     "output_type": "execute_result"
    }
   ],
   "source": [
    "a>b"
   ]
  },
  {
   "cell_type": "code",
   "execution_count": null,
   "id": "f9bd69b2",
   "metadata": {},
   "outputs": [
    {
     "data": {
      "text/plain": [
       "False"
      ]
     },
     "execution_count": 4,
     "metadata": {},
     "output_type": "execute_result"
    }
   ],
   "source": [
    "a==b"
   ]
  },
  {
   "cell_type": "code",
   "execution_count": null,
   "id": "88ed7e32",
   "metadata": {},
   "outputs": [
    {
     "data": {
      "text/plain": [
       "True"
      ]
     },
     "execution_count": 5,
     "metadata": {},
     "output_type": "execute_result"
    }
   ],
   "source": [
    "a!=b"
   ]
  },
  {
   "cell_type": "code",
   "execution_count": null,
   "id": "78849e25",
   "metadata": {},
   "outputs": [],
   "source": [
    "#logical opreterors"
   ]
  },
  {
   "cell_type": "code",
   "execution_count": null,
   "id": "0af454e0",
   "metadata": {},
   "outputs": [],
   "source": [
    "a= True\n",
    "b= False"
   ]
  },
  {
   "cell_type": "code",
   "execution_count": null,
   "id": "2fa26043",
   "metadata": {},
   "outputs": [
    {
     "data": {
      "text/plain": [
       "True"
      ]
     },
     "execution_count": 10,
     "metadata": {},
     "output_type": "execute_result"
    }
   ],
   "source": [
    "a&a"
   ]
  },
  {
   "cell_type": "code",
   "execution_count": null,
   "id": "31dc9033",
   "metadata": {},
   "outputs": [
    {
     "data": {
      "text/plain": [
       "False"
      ]
     },
     "execution_count": 11,
     "metadata": {},
     "output_type": "execute_result"
    }
   ],
   "source": [
    "a&b"
   ]
  },
  {
   "cell_type": "code",
   "execution_count": null,
   "id": "afad7ee5",
   "metadata": {},
   "outputs": [
    {
     "data": {
      "text/plain": [
       "True"
      ]
     },
     "execution_count": 12,
     "metadata": {},
     "output_type": "execute_result"
    }
   ],
   "source": [
    "a|b"
   ]
  },
  {
   "cell_type": "code",
   "execution_count": null,
   "id": "6c147286",
   "metadata": {},
   "outputs": [
    {
     "data": {
      "text/plain": [
       "True"
      ]
     },
     "execution_count": 13,
     "metadata": {},
     "output_type": "execute_result"
    }
   ],
   "source": [
    "b|a"
   ]
  },
  {
   "cell_type": "code",
   "execution_count": null,
   "id": "dd4a59f1",
   "metadata": {},
   "outputs": [
    {
     "data": {
      "text/plain": [
       "False"
      ]
     },
     "execution_count": 15,
     "metadata": {},
     "output_type": "execute_result"
    }
   ],
   "source": [
    "b|b"
   ]
  },
  {
   "cell_type": "code",
   "execution_count": null,
   "id": "8ceaf139",
   "metadata": {},
   "outputs": [],
   "source": [
    "Student=\"martha\"\n",
    "#'S' captil use"
   ]
  },
  {
   "cell_type": "code",
   "execution_count": null,
   "id": "03151d65",
   "metadata": {},
   "outputs": [],
   "source": [
    "student=\"Juli\"\n",
    "#\"s\" smoll letter use"
   ]
  },
  {
   "cell_type": "code",
   "execution_count": null,
   "id": "760e609f",
   "metadata": {},
   "outputs": [
    {
     "data": {
      "text/plain": [
       "'Juli'"
      ]
     },
     "execution_count": 7,
     "metadata": {},
     "output_type": "execute_result"
    }
   ],
   "source": [
    "student"
   ]
  },
  {
   "cell_type": "code",
   "execution_count": null,
   "id": "b8c5e690",
   "metadata": {},
   "outputs": [
    {
     "data": {
      "text/plain": [
       "'martha'"
      ]
     },
     "execution_count": 8,
     "metadata": {},
     "output_type": "execute_result"
    }
   ],
   "source": [
    "Student"
   ]
  },
  {
   "cell_type": "code",
   "execution_count": null,
   "id": "962a5278",
   "metadata": {},
   "outputs": [],
   "source": [
    "a=\"hello word\""
   ]
  },
  {
   "cell_type": "code",
   "execution_count": null,
   "id": "ffc0bcad",
   "metadata": {},
   "outputs": [
    {
     "data": {
      "text/plain": [
       "'hello word'"
      ]
     },
     "execution_count": 10,
     "metadata": {},
     "output_type": "execute_result"
    }
   ],
   "source": [
    "a"
   ]
  },
  {
   "cell_type": "code",
   "execution_count": null,
   "id": "3ef438fd",
   "metadata": {},
   "outputs": [],
   "source": [
    "a1=3.47"
   ]
  },
  {
   "cell_type": "code",
   "execution_count": null,
   "id": "84dbb16d",
   "metadata": {},
   "outputs": [
    {
     "data": {
      "text/plain": [
       "3.47"
      ]
     },
     "execution_count": 12,
     "metadata": {},
     "output_type": "execute_result"
    }
   ],
   "source": [
    "a1"
   ]
  },
  {
   "cell_type": "code",
   "execution_count": null,
   "id": "e0614e82",
   "metadata": {},
   "outputs": [],
   "source": [
    "# a & a1 is literals he is not be cheng"
   ]
  },
  {
   "cell_type": "code",
   "execution_count": null,
   "id": "4f446521",
   "metadata": {},
   "outputs": [],
   "source": [
    "str1='this is my first string'"
   ]
  },
  {
   "cell_type": "code",
   "execution_count": null,
   "id": "188fc4db",
   "metadata": {},
   "outputs": [
    {
     "data": {
      "text/plain": [
       "'this is my first string'"
      ]
     },
     "execution_count": 15,
     "metadata": {},
     "output_type": "execute_result"
    }
   ],
   "source": [
    "str1"
   ]
  },
  {
   "cell_type": "code",
   "execution_count": null,
   "id": "f23d2977",
   "metadata": {},
   "outputs": [],
   "source": [
    "str2=\"this is my second string\""
   ]
  },
  {
   "cell_type": "code",
   "execution_count": null,
   "id": "6feb972e",
   "metadata": {},
   "outputs": [
    {
     "data": {
      "text/plain": [
       "'this is my second string'"
      ]
     },
     "execution_count": 18,
     "metadata": {},
     "output_type": "execute_result"
    }
   ],
   "source": [
    "str2"
   ]
  },
  {
   "cell_type": "code",
   "execution_count": null,
   "id": "b6c041a6",
   "metadata": {},
   "outputs": [],
   "source": [
    "str3='''\n",
    "this string\n",
    "has \n",
    "lot of lines\n",
    "ikn it'''"
   ]
  },
  {
   "cell_type": "code",
   "execution_count": null,
   "id": "d4059960",
   "metadata": {},
   "outputs": [
    {
     "data": {
      "text/plain": [
       "'\\nthis string\\nhas \\nlot of lines\\nikn it'"
      ]
     },
     "execution_count": 20,
     "metadata": {},
     "output_type": "execute_result"
    }
   ],
   "source": [
    "str3"
   ]
  },
  {
   "cell_type": "code",
   "execution_count": null,
   "id": "12c0a69e",
   "metadata": {},
   "outputs": [],
   "source": [
    "my_string=\"this is sparta\""
   ]
  },
  {
   "cell_type": "code",
   "execution_count": null,
   "id": "5faa9391",
   "metadata": {},
   "outputs": [
    {
     "data": {
      "text/plain": [
       "'this is sparta'"
      ]
     },
     "execution_count": 22,
     "metadata": {},
     "output_type": "execute_result"
    }
   ],
   "source": [
    "my_string"
   ]
  },
  {
   "cell_type": "code",
   "execution_count": null,
   "id": "53a7bb8f",
   "metadata": {},
   "outputs": [
    {
     "data": {
      "text/plain": [
       "'t'"
      ]
     },
     "execution_count": 24,
     "metadata": {},
     "output_type": "execute_result"
    }
   ],
   "source": [
    "my_string[0]"
   ]
  },
  {
   "cell_type": "markdown",
   "id": "910fb2b8",
   "metadata": {},
   "source": []
  },
  {
   "cell_type": "code",
   "execution_count": null,
   "id": "3300eb25",
   "metadata": {},
   "outputs": [
    {
     "data": {
      "text/plain": [
       "'a'"
      ]
     },
     "execution_count": 25,
     "metadata": {},
     "output_type": "execute_result"
    }
   ],
   "source": [
    "my_string[-1]"
   ]
  },
  {
   "cell_type": "code",
   "execution_count": null,
   "id": "25487b9a",
   "metadata": {},
   "outputs": [],
   "source": [
    "y=\"ram sita lakshuman\""
   ]
  },
  {
   "cell_type": "code",
   "execution_count": null,
   "id": "40713af9",
   "metadata": {},
   "outputs": [
    {
     "data": {
      "text/plain": [
       "'ram sita lakshuman'"
      ]
     },
     "execution_count": 27,
     "metadata": {},
     "output_type": "execute_result"
    }
   ],
   "source": [
    "y"
   ]
  },
  {
   "cell_type": "code",
   "execution_count": null,
   "id": "b7028514",
   "metadata": {},
   "outputs": [
    {
     "data": {
      "text/plain": [
       "'a'"
      ]
     },
     "execution_count": 28,
     "metadata": {},
     "output_type": "execute_result"
    }
   ],
   "source": [
    "y[1]"
   ]
  },
  {
   "cell_type": "code",
   "execution_count": null,
   "id": "a8dcc5c7",
   "metadata": {},
   "outputs": [
    {
     "data": {
      "text/plain": [
       "'s spa'"
      ]
     },
     "execution_count": 33,
     "metadata": {},
     "output_type": "execute_result"
    }
   ],
   "source": [
    "my_string[6:11]"
   ]
  },
  {
   "cell_type": "code",
   "execution_count": null,
   "id": "7bed8a40",
   "metadata": {},
   "outputs": [
    {
     "data": {
      "text/plain": [
       "14"
      ]
     },
     "execution_count": 34,
     "metadata": {},
     "output_type": "execute_result"
    }
   ],
   "source": [
    "len(my_string)"
   ]
  },
  {
   "cell_type": "code",
   "execution_count": null,
   "id": "7af60319",
   "metadata": {},
   "outputs": [
    {
     "data": {
      "text/plain": [
       "'this is sparta'"
      ]
     },
     "execution_count": 35,
     "metadata": {},
     "output_type": "execute_result"
    }
   ],
   "source": [
    "my_string.lower()"
   ]
  },
  {
   "cell_type": "code",
   "execution_count": null,
   "id": "95caf815",
   "metadata": {},
   "outputs": [
    {
     "data": {
      "text/plain": [
       "'THIS IS SPARTA'"
      ]
     },
     "execution_count": 36,
     "metadata": {},
     "output_type": "execute_result"
    }
   ],
   "source": [
    "my_string.upper()"
   ]
  },
  {
   "cell_type": "code",
   "execution_count": null,
   "id": "6892493d",
   "metadata": {},
   "outputs": [
    {
     "data": {
      "text/plain": [
       "1"
      ]
     },
     "execution_count": 39,
     "metadata": {},
     "output_type": "execute_result"
    }
   ],
   "source": [
    "my_string.count('sparta')"
   ]
  },
  {
   "cell_type": "code",
   "execution_count": null,
   "id": "e76515b4",
   "metadata": {},
   "outputs": [
    {
     "data": {
      "text/plain": [
       "'are is sparta'"
      ]
     },
     "execution_count": 40,
     "metadata": {},
     "output_type": "execute_result"
    }
   ],
   "source": [
    "my_string.replace(\"this\",'are')"
   ]
  },
  {
   "cell_type": "raw",
   "id": "d7b349f0",
   "metadata": {},
   "source": []
  },
  {
   "cell_type": "code",
   "execution_count": null,
   "id": "99fd8d3e",
   "metadata": {},
   "outputs": [],
   "source": [
    "str_new='sparta saparta 300 300 300'"
   ]
  },
  {
   "cell_type": "code",
   "execution_count": null,
   "id": "e0e8527a",
   "metadata": {},
   "outputs": [
    {
     "data": {
      "text/plain": [
       "'sparta saparta 300 300 300'"
      ]
     },
     "execution_count": 42,
     "metadata": {},
     "output_type": "execute_result"
    }
   ],
   "source": [
    "str_new"
   ]
  },
  {
   "cell_type": "code",
   "execution_count": null,
   "id": "23167d4d",
   "metadata": {},
   "outputs": [
    {
     "name": "stdout",
     "output_type": "stream",
     "text": [
      "2 * 1 = 2\n",
      "2 * 2 = 4\n",
      "2 * 3 = 6\n",
      "2 * 4 = 8\n",
      "2 * 5 = 10\n",
      "2 * 6 = 12\n",
      "2 * 7 = 14\n",
      "2 * 8 = 16\n",
      "2 * 9 = 18\n",
      "2 * 10 = 20\n",
      "2 * 11 = 22\n"
     ]
    }
   ],
   "source": [
    "i=1 \n",
    "n=2\n",
    "while i <=11:\n",
    "    print (n,\"*\",i,\"=\",n*i)\n",
    "    i=i+1"
   ]
  },
  {
   "cell_type": "code",
   "execution_count": null,
   "id": "2fcf0cfc",
   "metadata": {},
   "outputs": [
    {
     "name": "stdout",
     "output_type": "stream",
     "text": [
      "1\n",
      "2\n",
      "3\n",
      "4\n",
      "5\n",
      "6\n",
      "7\n",
      "8\n",
      "9\n",
      "10\n"
     ]
    }
   ],
   "source": [
    "i=1\n",
    "while i<=10:\n",
    "    print(i)\n",
    "    i = i +1"
   ]
  },
  {
   "cell_type": "markdown",
   "id": "2bfc86d0",
   "metadata": {},
   "source": []
  },
  {
   "cell_type": "code",
   "execution_count": null,
   "id": "f430f07f",
   "metadata": {},
   "outputs": [
    {
     "name": "stdout",
     "output_type": "stream",
     "text": [
      "greater\n"
     ]
    }
   ],
   "source": [
    "v= 6\n",
    "v1=60\n",
    "v2= int(input())\n",
    "if v2>v1:\n",
    "    print('greater')\n",
    "elif v2==v1:\n",
    "    print(\"equal\")\n",
    "else:\n",
    "    print (\"lesser\")\n",
    "\n",
    "    # enter your numbar and run\n",
    "\n"
   ]
  },
  {
   "cell_type": "code",
   "execution_count": null,
   "id": "08c2a8b5",
   "metadata": {},
   "outputs": [
    {
     "name": "stdout",
     "output_type": "stream",
     "text": [
      "True\n",
      "no its not in the ist\n"
     ]
    }
   ],
   "source": [
    "l=[1,2,3,4,5,6,7]\n",
    "print (10 not in l)\n",
    "if 11 not in l:\n",
    "    print('no its not in the ist')\n",
    "else:\n",
    "    print('in this list')"
   ]
  },
  {
   "cell_type": "code",
   "execution_count": null,
   "id": "5ba5a2b3",
   "metadata": {},
   "outputs": [
    {
     "name": "stdout",
     "output_type": "stream",
     "text": [
      "False\n",
      "no its not in the ist\n"
     ]
    }
   ],
   "source": [
    "l=[1,2,3,4,5,6,7]\n",
    "print (5 not in l)\n",
    "if 111 not in l:\n",
    "    print('no its not in the ist')\n",
    "else:\n",
    "    print('in this list')"
   ]
  },
  {
   "cell_type": "code",
   "execution_count": null,
   "id": "b18f838c",
   "metadata": {},
   "outputs": [
    {
     "name": "stdout",
     "output_type": "stream",
     "text": [
      "you have not accive the job\n"
     ]
    }
   ],
   "source": [
    "age = 18\n",
    "adult = int(input())\n",
    "if age <= adult:\n",
    "    print (\"you hava to win in this job\")\n",
    "elif age >= adult:\n",
    "    print ('you have not accive the job')"
   ]
  },
  {
   "cell_type": "code",
   "execution_count": null,
   "id": "0fdb55d8",
   "metadata": {},
   "outputs": [
    {
     "name": "stdout",
     "output_type": "stream",
     "text": [
      "you hava to win in this job\n"
     ]
    }
   ],
   "source": [
    "age = 18\n",
    "adult = int(input())\n",
    "if age <= adult:\n",
    "    print (\"you hava to win in this job\")\n",
    "elif age >= adult:\n",
    "    print ('you have not accive the job')"
   ]
  },
  {
   "cell_type": "code",
   "execution_count": null,
   "id": "7396c3d0",
   "metadata": {},
   "outputs": [
    {
     "name": "stdout",
     "output_type": "stream",
     "text": [
      "what is your age\n",
      "you hava to win in this job\n"
     ]
    }
   ],
   "source": [
    "print(\"what is your age\")\n",
    "age = 18\n",
    "adult = int(input())\n",
    "if age <= adult:\n",
    "    print (\"you hava to win in this job\")\n",
    "elif age >= adult:\n",
    "    print ('you have not accive the job')"
   ]
  },
  {
   "cell_type": "code",
   "execution_count": null,
   "id": "672f52d3",
   "metadata": {},
   "outputs": [
    {
     "name": "stdout",
     "output_type": "stream",
     "text": [
      "what is your age\n",
      "you cannot drive\n"
     ]
    }
   ],
   "source": [
    "#youtube progarm\n",
    "print(\"what is your age\")\n",
    "age = int(input())\n",
    "if age < 18:\n",
    "    print ('you cannot drive')\n",
    "\n",
    "elif age>18:\n",
    "    print (\"we will think about you\")\n",
    "\n",
    "else:\n",
    "    print (\"you can drive\")"
   ]
  },
  {
   "cell_type": "code",
   "execution_count": null,
   "id": "31aa503d",
   "metadata": {},
   "outputs": [
    {
     "name": "stdout",
     "output_type": "stream",
     "text": [
      "what is you age\n",
      "you will be win\n"
     ]
    }
   ],
   "source": [
    "print(\"what is you age\")\n",
    "age= int(input())\n",
    "\n",
    "if age <=18:\n",
    "    print(\"you cannot drive\")\n",
    "\n",
    "elif age >=62:\n",
    "    print(\"you can't sarwaiv this drive\")\n",
    "\n",
    "else:\n",
    "     18 < age > 62\n",
    "     print(\"you will be win\")\n",
    "    \n"
   ]
  },
  {
   "cell_type": "code",
   "execution_count": null,
   "id": "32ee9c6c",
   "metadata": {},
   "outputs": [
    {
     "name": "stdout",
     "output_type": "stream",
     "text": [
      "7 is greater\n",
      "hello\n"
     ]
    }
   ],
   "source": [
    "if 7>5:\n",
    "    print (\"7 is greater\")\n",
    "print(\"hello\")"
   ]
  },
  {
   "cell_type": "code",
   "execution_count": null,
   "id": "f81cb48a",
   "metadata": {},
   "outputs": [
    {
     "name": "stdout",
     "output_type": "stream",
     "text": [
      "hello\n"
     ]
    }
   ],
   "source": [
    "if 7>35:\n",
    "    print (\"7 is greater\")\n",
    "print(\"hello\")"
   ]
  },
  {
   "cell_type": "code",
   "execution_count": null,
   "id": "1c193c12",
   "metadata": {},
   "outputs": [
    {
     "name": "stdout",
     "output_type": "stream",
     "text": [
      "candition is true\n"
     ]
    }
   ],
   "source": [
    "if 1:\n",
    "    print(\"candition is true\")"
   ]
  },
  {
   "cell_type": "code",
   "execution_count": null,
   "id": "302cdacc",
   "metadata": {},
   "outputs": [],
   "source": [
    "if 0:\n",
    "    print(\"candition is true\")"
   ]
  },
  {
   "cell_type": "code",
   "execution_count": null,
   "id": "d6918af2",
   "metadata": {},
   "outputs": [
    {
     "name": "stdout",
     "output_type": "stream",
     "text": [
      "8 is greater\n"
     ]
    }
   ],
   "source": [
    "if 7>10:\n",
    "    print (\"7 is greter\")\n",
    "\n",
    "else:\n",
    "    print('8 is greater')"
   ]
  },
  {
   "cell_type": "code",
   "execution_count": null,
   "id": "2e25c0d2",
   "metadata": {},
   "outputs": [
    {
     "name": "stdout",
     "output_type": "stream",
     "text": [
      "A is greater\n"
     ]
    }
   ],
   "source": [
    "A=90\n",
    "B=70\n",
    "C=50\n",
    "D=30\n",
    "if a>b:\n",
    "    if a>c:\n",
    "        if a>d:\n",
    "            print (\"A is greater\")\n",
    "        else:\n",
    "            print(\"D is greater\")\n",
    "    elif c>d:\n",
    "        print(\"C is greater\")\n",
    "    else:\n",
    "        print(\"D is greater\")\n",
    "elif d>c:\n",
    "    if b>d:\n",
    "        print(\"B is greater\")\n",
    "    else :\n",
    "        print(\"D is greater\")\n",
    "elif c>d:\n",
    "    print(\"C is greater\")\n",
    "else:\n",
    "    print(\"D is greater\")"
   ]
  },
  {
   "cell_type": "code",
   "execution_count": null,
   "id": "a78fed76",
   "metadata": {},
   "outputs": [
    {
     "name": "stdout",
     "output_type": "stream",
     "text": [
      " congratulations you will join Commers collage\n"
     ]
    }
   ],
   "source": [
    "#print (\"enter your 10th mark\")\n",
    "mark = int(input(\"enter your 10th mark\"))\n",
    "\n",
    "#mark = 100 \n",
    "\n",
    "if mark > 90:\n",
    "    print(\"congratulations you will join in Low collage & Medical collage\")\n",
    "elif mark < 90 and mark > 70:\n",
    "    print(\"congratulations you will join in Enginering collage & Scince collage \")\n",
    "elif mark < 70 and mark > 50:\n",
    "    print(\" congratulations you will join Commers collage\")\n",
    "else:\n",
    "    print(\"all student are join ART COLLAGE\" )\n",
    "\n",
    "\n"
   ]
  },
  {
   "cell_type": "code",
   "execution_count": 11,
   "id": "bf577edc",
   "metadata": {},
   "outputs": [
    {
     "data": {
      "text/plain": [
       "{'j': 20, 'e': 30, 'p': 50}"
      ]
     },
     "execution_count": 11,
     "metadata": {},
     "output_type": "execute_result"
    }
   ],
   "source": [
    "#in dis.....\n",
    "\n",
    "d={'j':20,'e':30,'p':50}\n",
    "d"
   ]
  },
  {
   "cell_type": "code",
   "execution_count": 12,
   "id": "3e2ec291",
   "metadata": {},
   "outputs": [],
   "source": [
    "if d['p']==50:\n",
    "    d['p']=d['p']+100"
   ]
  },
  {
   "cell_type": "code",
   "execution_count": 13,
   "id": "d267bd2c",
   "metadata": {},
   "outputs": [
    {
     "data": {
      "text/plain": [
       "{'j': 20, 'e': 30, 'p': 150}"
      ]
     },
     "execution_count": 13,
     "metadata": {},
     "output_type": "execute_result"
    }
   ],
   "source": [
    "d"
   ]
  },
  {
   "cell_type": "code",
   "execution_count": 14,
   "id": "693bc14f",
   "metadata": {},
   "outputs": [
    {
     "data": {
      "text/plain": [
       "['a', 'b', 'c']"
      ]
     },
     "execution_count": 14,
     "metadata": {},
     "output_type": "execute_result"
    }
   ],
   "source": [
    "# in list\n",
    "\n",
    "l=['a','b','c']\n",
    "l"
   ]
  },
  {
   "cell_type": "code",
   "execution_count": 16,
   "id": "13769c70",
   "metadata": {},
   "outputs": [],
   "source": [
    "if l [1]== 'b':\n",
    "    l[1]='x'\n",
    "\n",
    "    print(l)"
   ]
  },
  {
   "cell_type": "code",
   "execution_count": 17,
   "id": "e80f1505",
   "metadata": {},
   "outputs": [
    {
     "data": {
      "text/plain": [
       "['a', 'x', 'c']"
      ]
     },
     "execution_count": 17,
     "metadata": {},
     "output_type": "execute_result"
    }
   ],
   "source": [
    "l"
   ]
  },
  {
   "cell_type": "code",
   "execution_count": 19,
   "id": "86ba5dfc",
   "metadata": {},
   "outputs": [
    {
     "name": "stdout",
     "output_type": "stream",
     "text": [
      "1\n",
      "2\n",
      "3\n",
      "4\n",
      "5\n",
      "6\n",
      "7\n",
      "8\n",
      "9\n",
      "10\n"
     ]
    }
   ],
   "source": [
    "i = 1\n",
    "while i <= 10:\n",
    "    print(i)\n",
    "    i = i+1"
   ]
  },
  {
   "cell_type": "code",
   "execution_count": 21,
   "id": "216af7e5",
   "metadata": {},
   "outputs": [
    {
     "name": "stdout",
     "output_type": "stream",
     "text": [
      "2 * 1 = 2\n",
      "2 * 2 = 4\n",
      "2 * 3 = 6\n",
      "2 * 4 = 8\n",
      "2 * 5 = 10\n",
      "2 * 6 = 12\n",
      "2 * 7 = 14\n",
      "2 * 8 = 16\n",
      "2 * 9 = 18\n",
      "2 * 10 = 20\n"
     ]
    }
   ],
   "source": [
    "i = 1\n",
    "n = 2\n",
    "while i <= 10:\n",
    "    print (n, \"*\",i,\"=\",n*i)\n",
    "    i = i +1"
   ]
  },
  {
   "cell_type": "code",
   "execution_count": 22,
   "id": "c654cebf",
   "metadata": {},
   "outputs": [
    {
     "data": {
      "text/plain": [
       "['jay', 'shreee', 'hanuman']"
      ]
     },
     "execution_count": 22,
     "metadata": {},
     "output_type": "execute_result"
    }
   ],
   "source": [
    "l=['jay','shreee','hanuman']\n",
    "l"
   ]
  },
  {
   "cell_type": "code",
   "execution_count": 23,
   "id": "4a7e20c1",
   "metadata": {},
   "outputs": [
    {
     "name": "stdout",
     "output_type": "stream",
     "text": [
      "jay\n",
      "shreee\n",
      "hanuman\n"
     ]
    }
   ],
   "source": [
    "for i in l:\n",
    "    print(i)"
   ]
  },
  {
   "cell_type": "code",
   "execution_count": 24,
   "id": "2990e01b",
   "metadata": {},
   "outputs": [],
   "source": [
    "l1=['org','black','white']\n",
    "l2=['chair','book','laptop']"
   ]
  },
  {
   "cell_type": "code",
   "execution_count": 25,
   "id": "6e9375fe",
   "metadata": {},
   "outputs": [
    {
     "name": "stdout",
     "output_type": "stream",
     "text": [
      "org chair\n",
      "org book\n",
      "org laptop\n",
      "black chair\n",
      "black book\n",
      "black laptop\n",
      "white chair\n",
      "white book\n",
      "white laptop\n"
     ]
    }
   ],
   "source": [
    "for i in l1:\n",
    "    for j in l2:\n",
    "        print(i,j)"
   ]
  },
  {
   "cell_type": "code",
   "execution_count": 26,
   "id": "fd19013c",
   "metadata": {},
   "outputs": [],
   "source": [
    "             #functions in real LIFE\n",
    "\n"
   ]
  },
  {
   "cell_type": "code",
   "execution_count": 27,
   "id": "5c28af7e",
   "metadata": {},
   "outputs": [
    {
     "name": "stdout",
     "output_type": "stream",
     "text": [
      "hello world\n"
     ]
    }
   ],
   "source": [
    "def jay():\n",
    "    print('hello world')\n",
    "\n",
    "jay()"
   ]
  },
  {
   "cell_type": "code",
   "execution_count": 28,
   "id": "941f73c7",
   "metadata": {},
   "outputs": [],
   "source": [
    "def add_10(x):\n",
    "    return x+10"
   ]
  },
  {
   "cell_type": "code",
   "execution_count": 29,
   "id": "6bd8e41e",
   "metadata": {},
   "outputs": [
    {
     "data": {
      "text/plain": [
       "11"
      ]
     },
     "execution_count": 29,
     "metadata": {},
     "output_type": "execute_result"
    }
   ],
   "source": [
    "add_10(1)"
   ]
  },
  {
   "cell_type": "code",
   "execution_count": 30,
   "id": "2ff87708",
   "metadata": {},
   "outputs": [],
   "source": [
    "def odd_even(x):\n",
    "    if x%2==0:\n",
    "        print(x,\"is even\")\n",
    "    else:\n",
    "        print(x,\"is odd\")"
   ]
  },
  {
   "cell_type": "code",
   "execution_count": 32,
   "id": "769ba031",
   "metadata": {},
   "outputs": [
    {
     "name": "stdout",
     "output_type": "stream",
     "text": [
      "19 is odd\n"
     ]
    }
   ],
   "source": [
    "odd_even(19)"
   ]
  },
  {
   "cell_type": "code",
   "execution_count": 41,
   "id": "99147d7f",
   "metadata": {},
   "outputs": [],
   "source": [
    "def even_num(x):\n",
    "    if x%2==0:\n",
    "        print (x,'even num')"
   ]
  },
  {
   "cell_type": "code",
   "execution_count": 42,
   "id": "e1436977",
   "metadata": {},
   "outputs": [
    {
     "name": "stdout",
     "output_type": "stream",
     "text": [
      "10 even num\n"
     ]
    }
   ],
   "source": [
    "even_num(10)"
   ]
  },
  {
   "cell_type": "code",
   "execution_count": 44,
   "id": "9539444f",
   "metadata": {},
   "outputs": [
    {
     "name": "stdout",
     "output_type": "stream",
     "text": [
      "0 True\n",
      "1 False\n",
      "2 True\n",
      "3 False\n",
      "4 True\n",
      "5 False\n",
      "6 True\n",
      "7 False\n",
      "8 True\n",
      "9 False\n"
     ]
    }
   ],
   "source": [
    "for i in range (10):\n",
    "    print (i, i%2==0)"
   ]
  },
  {
   "cell_type": "code",
   "execution_count": 54,
   "id": "3e4fc8f9",
   "metadata": {},
   "outputs": [
    {
     "name": "stdout",
     "output_type": "stream",
     "text": [
      "0\n",
      "2\n",
      "4\n",
      "6\n",
      "8\n",
      "10\n",
      "12\n",
      "14\n",
      "16\n",
      "18\n",
      "20\n"
     ]
    }
   ],
   "source": [
    "for i in range (21):\n",
    "    if i % 2 == 0:\n",
    "        print(i)"
   ]
  },
  {
   "cell_type": "code",
   "execution_count": 55,
   "id": "42b4ac8b",
   "metadata": {},
   "outputs": [],
   "source": [
    "                       # lambada f...."
   ]
  },
  {
   "cell_type": "code",
   "execution_count": 56,
   "id": "1b64435d",
   "metadata": {},
   "outputs": [],
   "source": [
    "g = lambda x: x*x*x"
   ]
  },
  {
   "cell_type": "code",
   "execution_count": 57,
   "id": "bba34926",
   "metadata": {},
   "outputs": [],
   "source": [
    "                        #lambada whit filter"
   ]
  },
  {
   "cell_type": "code",
   "execution_count": null,
   "id": "44fcb479",
   "metadata": {},
   "outputs": [],
   "source": []
  },
  {
   "cell_type": "code",
   "execution_count": 64,
   "id": "46c2e8f8",
   "metadata": {},
   "outputs": [
    {
     "name": "stdout",
     "output_type": "stream",
     "text": [
      "[453, 65, 7, 77, 55, 89]\n"
     ]
    }
   ],
   "source": [
    "l1 = [12,453,6,65,7,52,78,77,55,89,132]\n",
    "odd_num = list(filter(lambda x:(x%2!=0),l1))\n",
    "print(odd_num)"
   ]
  },
  {
   "cell_type": "code",
   "execution_count": 65,
   "id": "40485431",
   "metadata": {},
   "outputs": [
    {
     "name": "stdout",
     "output_type": "stream",
     "text": [
      "[12, 6, 52, 78, 132]\n"
     ]
    }
   ],
   "source": [
    "even_num = list(filter(lambda x:(x%2==0),l1))\n",
    "print(even_num)"
   ]
  },
  {
   "cell_type": "code",
   "execution_count": null,
   "id": "c13e547e",
   "metadata": {},
   "outputs": [],
   "source": []
  },
  {
   "cell_type": "code",
   "execution_count": null,
   "id": "c7dd79b3",
   "metadata": {},
   "outputs": [],
   "source": []
  },
  {
   "cell_type": "code",
   "execution_count": null,
   "id": "f3d2e51b",
   "metadata": {},
   "outputs": [],
   "source": []
  },
  {
   "cell_type": "code",
   "execution_count": 66,
   "id": "47f105ec",
   "metadata": {},
   "outputs": [],
   "source": [
    "                            # lambada with map"
   ]
  },
  {
   "cell_type": "code",
   "execution_count": null,
   "id": "dabec551",
   "metadata": {},
   "outputs": [],
   "source": []
  },
  {
   "cell_type": "code",
   "execution_count": 71,
   "id": "bb8c1dec",
   "metadata": {},
   "outputs": [
    {
     "name": "stdout",
     "output_type": "stream",
     "text": [
      "[2, 4, 6, 8, 10, 12, 14, 16, 18, 20]\n"
     ]
    }
   ],
   "source": [
    "l1=[1,2,3,4,5,6,7,8,9,10]\n",
    "\n",
    "num=list(map(lambda s:s*2,l1))\n",
    "print(num)"
   ]
  },
  {
   "cell_type": "code",
   "execution_count": 74,
   "id": "acbdfbf1",
   "metadata": {},
   "outputs": [],
   "source": [
    "# from functools import ruduce\n",
    "\n",
    "# sum=ruduce(lambda j,d:j+d,l1)\n",
    "# print(sum)"
   ]
  },
  {
   "cell_type": "code",
   "execution_count": 75,
   "id": "c4044f92",
   "metadata": {},
   "outputs": [],
   "source": [
    "\n",
    "\n",
    "\n",
    "\n",
    "\n",
    "                    #python object Oriented porgramming\n",
    "\n",
    "\n",
    "\n",
    "\n"
   ]
  },
  {
   "cell_type": "code",
   "execution_count": 76,
   "id": "5e95eae1",
   "metadata": {},
   "outputs": [],
   "source": [
    "                     # class"
   ]
  },
  {
   "cell_type": "code",
   "execution_count": null,
   "id": "4b8d4dbc",
   "metadata": {},
   "outputs": [],
   "source": [
    "\n"
   ]
  },
  {
   "cell_type": "code",
   "execution_count": 15,
   "id": "e49b87d9",
   "metadata": {},
   "outputs": [],
   "source": [
    "class phone :\n",
    "    def make_call(self):\n",
    "        print(\"i am makeing a call\")\n",
    "\n",
    "    def play_game(self):\n",
    "        print(\"i am playing a game\")\n",
    "p1 = phone()"
   ]
  },
  {
   "cell_type": "code",
   "execution_count": 18,
   "id": "e681e214",
   "metadata": {},
   "outputs": [
    {
     "name": "stdout",
     "output_type": "stream",
     "text": [
      "i am makeing a call\n"
     ]
    }
   ],
   "source": [
    "p1.make_call()"
   ]
  },
  {
   "cell_type": "code",
   "execution_count": 19,
   "id": "322fb70a",
   "metadata": {},
   "outputs": [
    {
     "name": "stdout",
     "output_type": "stream",
     "text": [
      "i am playing a game\n"
     ]
    }
   ],
   "source": [
    "p1.play_game()"
   ]
  },
  {
   "cell_type": "code",
   "execution_count": 28,
   "id": "8d00d698",
   "metadata": {},
   "outputs": [],
   "source": [
    "class phone :\n",
    "\n",
    "    def set_color(self,color):\n",
    "        self.set.color=color\n",
    "\n",
    "    def set_cost(self,cost):\n",
    "        self.set.cost=cost\n",
    "\n",
    "    def show_color(self):\n",
    "        return self_color\n",
    "    \n",
    "    def show_cost(self):\n",
    "        return self_cost\n",
    "\n",
    "    def make_call(self):\n",
    "        print(\"i am makeing a call\")\n",
    "\n",
    "    def play_game(self):\n",
    "        print(\"i am playing a game\")\n",
    "p2 = phone()"
   ]
  },
  {
   "cell_type": "code",
   "execution_count": 32,
   "id": "2b68e3e6",
   "metadata": {},
   "outputs": [
    {
     "ename": "AttributeError",
     "evalue": "'phone' object has no attribute 'color'",
     "output_type": "error",
     "traceback": [
      "\u001b[1;31m---------------------------------------------------------------------------\u001b[0m",
      "\u001b[1;31mAttributeError\u001b[0m                            Traceback (most recent call last)",
      "Cell \u001b[1;32mIn[32], line 1\u001b[0m\n\u001b[1;32m----> 1\u001b[0m p2\u001b[39m.\u001b[39;49mcolor(\u001b[39m'\u001b[39m\u001b[39mred\u001b[39m\u001b[39m'\u001b[39m)\n",
      "\u001b[1;31mAttributeError\u001b[0m: 'phone' object has no attribute 'color'"
     ]
    }
   ],
   "source": [
    "p2.color('red')"
   ]
  },
  {
   "cell_type": "code",
   "execution_count": 31,
   "id": "482ea86f",
   "metadata": {},
   "outputs": [
    {
     "ename": "AttributeError",
     "evalue": "'phone' object has no attribute 'set'",
     "output_type": "error",
     "traceback": [
      "\u001b[1;31m---------------------------------------------------------------------------\u001b[0m",
      "\u001b[1;31mAttributeError\u001b[0m                            Traceback (most recent call last)",
      "Cell \u001b[1;32mIn[31], line 1\u001b[0m\n\u001b[1;32m----> 1\u001b[0m p2\u001b[39m.\u001b[39;49mset\u001b[39m.\u001b[39mcost(\u001b[39m40000\u001b[39m)\n",
      "\u001b[1;31mAttributeError\u001b[0m: 'phone' object has no attribute 'set'"
     ]
    }
   ],
   "source": [
    "p2.set.cost(40000)"
   ]
  },
  {
   "cell_type": "code",
   "execution_count": 27,
   "id": "1ab790bd",
   "metadata": {},
   "outputs": [
    {
     "ename": "NameError",
     "evalue": "name 'cost' is not defined",
     "output_type": "error",
     "traceback": [
      "\u001b[1;31m---------------------------------------------------------------------------\u001b[0m",
      "\u001b[1;31mNameError\u001b[0m                                 Traceback (most recent call last)",
      "Cell \u001b[1;32mIn[27], line 1\u001b[0m\n\u001b[1;32m----> 1\u001b[0m p2\u001b[39m.\u001b[39;49mshow_cost()\n",
      "Cell \u001b[1;32mIn[20], line 13\u001b[0m, in \u001b[0;36mphone.show_cost\u001b[1;34m(self)\u001b[0m\n\u001b[0;32m     12\u001b[0m \u001b[39mdef\u001b[39;00m \u001b[39mshow_cost\u001b[39m(\u001b[39mself\u001b[39m):\n\u001b[1;32m---> 13\u001b[0m     \u001b[39mreturn\u001b[39;00m \u001b[39mself\u001b[39m,cost\n",
      "\u001b[1;31mNameError\u001b[0m: name 'cost' is not defined"
     ]
    }
   ],
   "source": [
    "p2.show_cost()"
   ]
  },
  {
   "cell_type": "code",
   "execution_count": null,
   "id": "701182f6",
   "metadata": {},
   "outputs": [],
   "source": []
  }
 ],
 "metadata": {
  "kernelspec": {
   "display_name": "Python 3 (ipykernel)",
   "language": "python",
   "name": "python3"
  },
  "language_info": {
   "codemirror_mode": {
    "name": "ipython",
    "version": 3
   },
   "file_extension": ".py",
   "mimetype": "text/x-python",
   "name": "python",
   "nbconvert_exporter": "python",
   "pygments_lexer": "ipython3",
   "version": "3.11.4"
  }
 },
 "nbformat": 4,
 "nbformat_minor": 5
}
