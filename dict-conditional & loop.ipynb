{
 "cells": [
  {
   "cell_type": "code",
   "execution_count": 1,
   "id": "25bf4320",
   "metadata": {},
   "outputs": [],
   "source": [
    "def test1():\n",
    "    print(\"this is my very first fun\")"
   ]
  },
  {
   "cell_type": "code",
   "execution_count": 2,
   "id": "879ba65f",
   "metadata": {},
   "outputs": [
    {
     "name": "stdout",
     "output_type": "stream",
     "text": [
      "this is my very first fun\n"
     ]
    }
   ],
   "source": [
    "test1()"
   ]
  },
  {
   "cell_type": "code",
   "execution_count": 3,
   "id": "8bfefe3e",
   "metadata": {},
   "outputs": [],
   "source": [
    "l=[245,4,6,8,2]"
   ]
  },
  {
   "cell_type": "code",
   "execution_count": 4,
   "id": "20239d40",
   "metadata": {},
   "outputs": [
    {
     "data": {
      "text/plain": [
       "[245, 4, 6, 8, 2]"
      ]
     },
     "execution_count": 4,
     "metadata": {},
     "output_type": "execute_result"
    }
   ],
   "source": [
    "l"
   ]
  },
  {
   "cell_type": "code",
   "execution_count": 5,
   "id": "dd4ef940",
   "metadata": {},
   "outputs": [],
   "source": [
    "def test2():\n",
    "    return\"this is my very first return\"\n"
   ]
  },
  {
   "cell_type": "code",
   "execution_count": 6,
   "id": "11b6deea",
   "metadata": {},
   "outputs": [
    {
     "data": {
      "text/plain": [
       "'this is my very first return'"
      ]
     },
     "execution_count": 6,
     "metadata": {},
     "output_type": "execute_result"
    }
   ],
   "source": [
    "test2()"
   ]
  },
  {
   "cell_type": "code",
   "execution_count": 7,
   "id": "9572b8bb",
   "metadata": {},
   "outputs": [],
   "source": [
    "d={}"
   ]
  },
  {
   "cell_type": "code",
   "execution_count": 8,
   "id": "35507bb1",
   "metadata": {},
   "outputs": [
    {
     "data": {
      "text/plain": [
       "dict"
      ]
     },
     "execution_count": 8,
     "metadata": {},
     "output_type": "execute_result"
    }
   ],
   "source": [
    "type(d)"
   ]
  },
  {
   "cell_type": "code",
   "execution_count": 9,
   "id": "6bb11b18",
   "metadata": {},
   "outputs": [
    {
     "data": {
      "text/plain": [
       "{'key': 'ravan'}"
      ]
     },
     "execution_count": 9,
     "metadata": {},
     "output_type": "execute_result"
    }
   ],
   "source": [
    "d1={'key':\"ravan\",}\n",
    "d1"
   ]
  },
  {
   "cell_type": "code",
   "execution_count": 10,
   "id": "9fe392a9",
   "metadata": {},
   "outputs": [],
   "source": [
    "d2={'name':\"jaij@gmail.com\", 'nambar':\"243245\"}"
   ]
  },
  {
   "cell_type": "code",
   "execution_count": 11,
   "id": "3d52464e",
   "metadata": {},
   "outputs": [
    {
     "data": {
      "text/plain": [
       "{'name': 'jaij@gmail.com', 'nambar': '243245'}"
      ]
     },
     "execution_count": 11,
     "metadata": {},
     "output_type": "execute_result"
    }
   ],
   "source": [
    "d2"
   ]
  },
  {
   "cell_type": "code",
   "execution_count": 12,
   "id": "3e6065ec",
   "metadata": {},
   "outputs": [],
   "source": [
    "d3={124:\"karan\",\"@\":\"abcd\",True:'kashi'}"
   ]
  },
  {
   "cell_type": "code",
   "execution_count": 13,
   "id": "319a2a71",
   "metadata": {},
   "outputs": [
    {
     "data": {
      "text/plain": [
       "{124: 'karan', '@': 'abcd', True: 'kashi'}"
      ]
     },
     "execution_count": 13,
     "metadata": {},
     "output_type": "execute_result"
    }
   ],
   "source": [
    "d3"
   ]
  },
  {
   "cell_type": "code",
   "execution_count": 14,
   "id": "95b4a971",
   "metadata": {},
   "outputs": [
    {
     "data": {
      "text/plain": [
       "'karan'"
      ]
     },
     "execution_count": 14,
     "metadata": {},
     "output_type": "execute_result"
    }
   ],
   "source": [
    "d3[124]"
   ]
  },
  {
   "cell_type": "code",
   "execution_count": 15,
   "id": "e9ad333c",
   "metadata": {},
   "outputs": [
    {
     "data": {
      "text/plain": [
       "'abcd'"
      ]
     },
     "execution_count": 15,
     "metadata": {},
     "output_type": "execute_result"
    }
   ],
   "source": [
    "d3['@']"
   ]
  },
  {
   "cell_type": "code",
   "execution_count": 16,
   "id": "b0ec53ec",
   "metadata": {},
   "outputs": [
    {
     "data": {
      "text/plain": [
       "'kashi'"
      ]
     },
     "execution_count": 16,
     "metadata": {},
     "output_type": "execute_result"
    }
   ],
   "source": [
    "d3[1] \n",
    "#True is always 1 value\n"
   ]
  },
  {
   "cell_type": "code",
   "execution_count": 17,
   "id": "f989054c",
   "metadata": {},
   "outputs": [],
   "source": [
    "d4={1:\"jay\",\"name\":'rsa',1:'abcde'}"
   ]
  },
  {
   "cell_type": "code",
   "execution_count": 18,
   "id": "bd093586",
   "metadata": {},
   "outputs": [
    {
     "data": {
      "text/plain": [
       "'abcde'"
      ]
     },
     "execution_count": 18,
     "metadata": {},
     "output_type": "execute_result"
    }
   ],
   "source": [
    "d4[1]"
   ]
  },
  {
   "cell_type": "code",
   "execution_count": 19,
   "id": "bf97331e",
   "metadata": {},
   "outputs": [],
   "source": [
    "d5={\"company\":\"jay shree ram\",'course':[\"web dev\",\"data science\",\"java with dsa system design\"]}"
   ]
  },
  {
   "cell_type": "markdown",
   "id": "9160f894",
   "metadata": {},
   "source": [
    "d5"
   ]
  },
  {
   "cell_type": "code",
   "execution_count": 20,
   "id": "1c23378d",
   "metadata": {},
   "outputs": [
    {
     "data": {
      "text/plain": [
       "{'company': 'jay shree ram',\n",
       " 'course': ['web dev', 'data science', 'java with dsa system design']}"
      ]
     },
     "execution_count": 20,
     "metadata": {},
     "output_type": "execute_result"
    }
   ],
   "source": [
    "d5"
   ]
  },
  {
   "cell_type": "code",
   "execution_count": 21,
   "id": "0eb94231",
   "metadata": {},
   "outputs": [
    {
     "data": {
      "text/plain": [
       "'jay shree ram'"
      ]
     },
     "execution_count": 21,
     "metadata": {},
     "output_type": "execute_result"
    }
   ],
   "source": [
    "d5[\"company\"]"
   ]
  },
  {
   "cell_type": "code",
   "execution_count": 22,
   "id": "65aab3b8",
   "metadata": {},
   "outputs": [
    {
     "data": {
      "text/plain": [
       "['web dev', 'data science', 'java with dsa system design']"
      ]
     },
     "execution_count": 22,
     "metadata": {},
     "output_type": "execute_result"
    }
   ],
   "source": [
    "d5['course']"
   ]
  },
  {
   "cell_type": "code",
   "execution_count": 23,
   "id": "6b70e946",
   "metadata": {},
   "outputs": [
    {
     "data": {
      "text/plain": [
       "'java with dsa system design'"
      ]
     },
     "execution_count": 23,
     "metadata": {},
     "output_type": "execute_result"
    }
   ],
   "source": [
    "d5['course'][2]"
   ]
  },
  {
   "cell_type": "code",
   "execution_count": 24,
   "id": "6d7569fa",
   "metadata": {},
   "outputs": [
    {
     "data": {
      "text/plain": [
       "'java with dsa system design'"
      ]
     },
     "execution_count": 24,
     "metadata": {},
     "output_type": "execute_result"
    }
   ],
   "source": [
    "d5['course'][2]"
   ]
  },
  {
   "cell_type": "code",
   "execution_count": 25,
   "id": "e2c69857",
   "metadata": {},
   "outputs": [],
   "source": [
    "d6={\"numbar\":[1,2,3,4,5,],\"assiment\":(1,2,4,5,6,),\"launch_date\":{13,25,19,1},'class_time': 8,'java with dsa and system design': 7}"
   ]
  },
  {
   "cell_type": "code",
   "execution_count": 26,
   "id": "8d8b7c5c",
   "metadata": {},
   "outputs": [
    {
     "data": {
      "text/plain": [
       "{'numbar': [1, 2, 3, 4, 5],\n",
       " 'assiment': (1, 2, 4, 5, 6),\n",
       " 'launch_date': {1, 13, 19, 25},\n",
       " 'class_time': 8,\n",
       " 'java with dsa and system design': 7}"
      ]
     },
     "execution_count": 26,
     "metadata": {},
     "output_type": "execute_result"
    }
   ],
   "source": [
    "d6"
   ]
  },
  {
   "cell_type": "code",
   "execution_count": 27,
   "id": "b160dc0a",
   "metadata": {},
   "outputs": [
    {
     "data": {
      "text/plain": [
       "8"
      ]
     },
     "execution_count": 27,
     "metadata": {},
     "output_type": "execute_result"
    }
   ],
   "source": [
    "d6[\"class_time\"]"
   ]
  },
  {
   "cell_type": "code",
   "execution_count": 28,
   "id": "d40c0c0b",
   "metadata": {},
   "outputs": [],
   "source": [
    "del d6['class_time']"
   ]
  },
  {
   "cell_type": "code",
   "execution_count": 29,
   "id": "79cd3a3f",
   "metadata": {},
   "outputs": [
    {
     "data": {
      "text/plain": [
       "{'numbar': [1, 2, 3, 4, 5],\n",
       " 'assiment': (1, 2, 4, 5, 6),\n",
       " 'launch_date': {1, 13, 19, 25},\n",
       " 'java with dsa and system design': 7}"
      ]
     },
     "execution_count": 29,
     "metadata": {},
     "output_type": "execute_result"
    }
   ],
   "source": [
    "d6"
   ]
  },
  {
   "cell_type": "code",
   "execution_count": 30,
   "id": "02d4de5c",
   "metadata": {},
   "outputs": [
    {
     "data": {
      "text/plain": [
       "list[{'numbar': [1, 2, 3, 4, 5], 'assiment': (1, 2, 4, 5, 6), 'launch_date': {25, 19, 13, 1}, 'java with dsa and system design': 7}]"
      ]
     },
     "execution_count": 30,
     "metadata": {},
     "output_type": "execute_result"
    }
   ],
   "source": [
    "list[d6]"
   ]
  },
  {
   "cell_type": "code",
   "execution_count": 31,
   "id": "60488ecd",
   "metadata": {},
   "outputs": [
    {
     "data": {
      "text/plain": [
       "dict_keys(['numbar', 'assiment', 'launch_date', 'java with dsa and system design'])"
      ]
     },
     "execution_count": 31,
     "metadata": {},
     "output_type": "execute_result"
    }
   ],
   "source": [
    "d6.keys()"
   ]
  },
  {
   "cell_type": "code",
   "execution_count": 32,
   "id": "f57bd081",
   "metadata": {},
   "outputs": [
    {
     "data": {
      "text/plain": [
       "['numbar', 'assiment', 'launch_date', 'java with dsa and system design']"
      ]
     },
     "execution_count": 32,
     "metadata": {},
     "output_type": "execute_result"
    }
   ],
   "source": [
    "list(d6.keys())"
   ]
  },
  {
   "cell_type": "code",
   "execution_count": 33,
   "id": "9e07f959",
   "metadata": {},
   "outputs": [
    {
     "data": {
      "text/plain": [
       "[[1, 2, 3, 4, 5], (1, 2, 4, 5, 6), {1, 13, 19, 25}, 7]"
      ]
     },
     "execution_count": 33,
     "metadata": {},
     "output_type": "execute_result"
    }
   ],
   "source": [
    "list(d6.values())"
   ]
  },
  {
   "cell_type": "code",
   "execution_count": 34,
   "id": "a4827234",
   "metadata": {},
   "outputs": [
    {
     "data": {
      "text/plain": [
       "[('numbar', [1, 2, 3, 4, 5]),\n",
       " ('assiment', (1, 2, 4, 5, 6)),\n",
       " ('launch_date', {1, 13, 19, 25}),\n",
       " ('java with dsa and system design', 7)]"
      ]
     },
     "execution_count": 34,
     "metadata": {},
     "output_type": "execute_result"
    }
   ],
   "source": [
    "list(d6.items())"
   ]
  },
  {
   "cell_type": "code",
   "execution_count": 35,
   "id": "9ac6b93a",
   "metadata": {},
   "outputs": [],
   "source": [
    "d6[\"mentor\"]=[1234,\"tewf\",\"dyrhu\"]"
   ]
  },
  {
   "cell_type": "code",
   "execution_count": 36,
   "id": "1b606448",
   "metadata": {},
   "outputs": [
    {
     "data": {
      "text/plain": [
       "[1, 2, 3, 4, 5]"
      ]
     },
     "execution_count": 36,
     "metadata": {},
     "output_type": "execute_result"
    }
   ],
   "source": [
    "d6.pop('numbar')"
   ]
  },
  {
   "cell_type": "code",
   "execution_count": 37,
   "id": "bc34f3b6",
   "metadata": {},
   "outputs": [
    {
     "data": {
      "text/plain": [
       "{'assiment': (1, 2, 4, 5, 6),\n",
       " 'launch_date': {1, 13, 19, 25},\n",
       " 'java with dsa and system design': 7,\n",
       " 'mentor': [1234, 'tewf', 'dyrhu']}"
      ]
     },
     "execution_count": 37,
     "metadata": {},
     "output_type": "execute_result"
    }
   ],
   "source": [
    "d6"
   ]
  },
  {
   "cell_type": "code",
   "execution_count": 38,
   "id": "be1d057b",
   "metadata": {},
   "outputs": [
    {
     "data": {
      "text/plain": [
       "(1, 2, 4, 5, 6)"
      ]
     },
     "execution_count": 38,
     "metadata": {},
     "output_type": "execute_result"
    }
   ],
   "source": [
    "d6.pop('assiment')"
   ]
  },
  {
   "cell_type": "code",
   "execution_count": 39,
   "id": "f24863c7",
   "metadata": {},
   "outputs": [
    {
     "data": {
      "text/plain": [
       "{'launch_date': {1, 13, 19, 25},\n",
       " 'java with dsa and system design': 7,\n",
       " 'mentor': [1234, 'tewf', 'dyrhu']}"
      ]
     },
     "execution_count": 39,
     "metadata": {},
     "output_type": "execute_result"
    }
   ],
   "source": [
    "d6"
   ]
  },
  {
   "cell_type": "code",
   "execution_count": 40,
   "id": "a02eb98e",
   "metadata": {},
   "outputs": [
    {
     "ename": "TypeError",
     "evalue": "pop expected at least 1 argument, got 0",
     "output_type": "error",
     "traceback": [
      "\u001b[1;31m---------------------------------------------------------------------------\u001b[0m",
      "\u001b[1;31mTypeError\u001b[0m                                 Traceback (most recent call last)",
      "Cell \u001b[1;32mIn[40], line 1\u001b[0m\n\u001b[1;32m----> 1\u001b[0m d6\u001b[39m.\u001b[39;49mpop()\n",
      "\u001b[1;31mTypeError\u001b[0m: pop expected at least 1 argument, got 0"
     ]
    }
   ],
   "source": [
    "d6.pop()"
   ]
  },
  {
   "cell_type": "code",
   "execution_count": null,
   "id": "a496d7d5",
   "metadata": {},
   "outputs": [],
   "source": [
    "d7={'launch_date':[11,21,31],'{class name':['name','life','time','socal']}"
   ]
  },
  {
   "cell_type": "code",
   "execution_count": null,
   "id": "23a5040b",
   "metadata": {},
   "outputs": [
    {
     "data": {
      "text/plain": [
       "{'launch_date': [11, 21, 31], '{class name': ['name', 'life', 'time', 'socal']}"
      ]
     },
     "execution_count": 34,
     "metadata": {},
     "output_type": "execute_result"
    }
   ],
   "source": [
    "d7"
   ]
  },
  {
   "cell_type": "code",
   "execution_count": null,
   "id": "26b24bc9",
   "metadata": {},
   "outputs": [
    {
     "data": {
      "text/plain": [
       "dict_keys(['launch_date', '{class name'])"
      ]
     },
     "execution_count": 36,
     "metadata": {},
     "output_type": "execute_result"
    }
   ],
   "source": [
    "d7.keys()"
   ]
  },
  {
   "cell_type": "code",
   "execution_count": null,
   "id": "597b9c2f",
   "metadata": {},
   "outputs": [],
   "source": []
  }
 ],
 "metadata": {
  "kernelspec": {
   "display_name": "Python 3 (ipykernel)",
   "language": "python",
   "name": "python3"
  },
  "language_info": {
   "codemirror_mode": {
    "name": "ipython",
    "version": 3
   },
   "file_extension": ".py",
   "mimetype": "text/x-python",
   "name": "python",
   "nbconvert_exporter": "python",
   "pygments_lexer": "ipython3",
   "version": "3.11.4"
  }
 },
 "nbformat": 4,
 "nbformat_minor": 5
}
