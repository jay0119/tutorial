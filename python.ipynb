{
 "cells": [
  {
   "cell_type": "code",
   "execution_count": 4,
   "metadata": {},
   "outputs": [],
   "source": [
    "class phone:\n",
    "\n",
    "    def set_coller(self, coller):\n",
    "        self.coller = coller\n",
    "\n",
    "    def set_cost(self,cost):\n",
    "        self.cost = cost\n",
    "\n",
    "    def show_coller(self):\n",
    "        return self.coller\n",
    "       \n",
    "    def show_cost(self):\n",
    "        return self.cost\n",
    "\n",
    "    def make_call(self):\n",
    "        print(\"i am macking a call\")\n",
    "    \n",
    "    def make_game(self):\n",
    "        print(\"i am plyeing the game\")\n",
    "\n",
    "P = phone()\n",
    "\n"
   ]
  },
  {
   "cell_type": "code",
   "execution_count": 12,
   "metadata": {},
   "outputs": [
    {
     "name": "stdout",
     "output_type": "stream",
     "text": [
      "i am macking a call\n",
      "i am plyeing the game\n"
     ]
    }
   ],
   "source": [
    "P.set_coller(\"RED\")\n",
    "P.set_cost (20000)\n",
    "\n",
    "\n",
    "P.make_call()\n",
    "P.make_game()\n",
    "\n",
    "\n"
   ]
  },
  {
   "cell_type": "code",
   "execution_count": 13,
   "metadata": {},
   "outputs": [
    {
     "data": {
      "text/plain": [
       "20000"
      ]
     },
     "execution_count": 13,
     "metadata": {},
     "output_type": "execute_result"
    }
   ],
   "source": [
    "P.show_coller()\n",
    "P.show_cost()"
   ]
  },
  {
   "cell_type": "code",
   "execution_count": 4,
   "metadata": {},
   "outputs": [],
   "source": [
    "class Employee:\n",
    "    def __init__(self, name, age, salary, gender):\n",
    "        self.name = name\n",
    "        self.age = age\n",
    "        self.salary = salary\n",
    "        self.gender = gender\n",
    "\n",
    "    def show_employee_details(self):\n",
    "        print(\"name of emplayee is \", self.name)\n",
    "        print(\"age of employee is\",self.age)\n",
    "        print(\"salary of employee is \", self.salary)\n",
    "        print(\"gender of empaloyee is \",self.gender)\n"
   ]
  },
  {
   "cell_type": "code",
   "execution_count": 6,
   "metadata": {},
   "outputs": [],
   "source": [
    "R1 = Employee ('sita',28,30000,'Femal')"
   ]
  },
  {
   "cell_type": "code",
   "execution_count": 9,
   "metadata": {},
   "outputs": [
    {
     "name": "stdout",
     "output_type": "stream",
     "text": [
      "name of emplayee is  sita\n",
      "age of employee is 28\n",
      "salary of employee is  30000\n",
      "gender of empaloyee is  Femal\n"
     ]
    }
   ],
   "source": [
    "R1.show_employee_details()"
   ]
  },
  {
   "cell_type": "code",
   "execution_count": 12,
   "metadata": {},
   "outputs": [],
   "source": [
    "class vehicale:\n",
    "    def __init__(self, maileage,cost):\n",
    "        self.maileage = maileage\n",
    "        self.cost = cost\n",
    "\n",
    "    def show_vehicale_detailes(self):\n",
    "        print(\"mailege of vaicale\",self.maileage)\n",
    "        print('cost of vaicale is ', self.cost)\n",
    "        print('i am a vehical')\n"
   ]
  },
  {
   "cell_type": "code",
   "execution_count": 13,
   "metadata": {},
   "outputs": [
    {
     "name": "stdout",
     "output_type": "stream",
     "text": [
      "mailege of vaicale 50000\n",
      "cost of vaicale is  47\n",
      "i am a vehical\n"
     ]
    }
   ],
   "source": [
    "v1 = vehicale(50000,47)\n",
    "v1.show_vehicale_detailes()"
   ]
  },
  {
   "cell_type": "code",
   "execution_count": null,
   "metadata": {},
   "outputs": [],
   "source": []
  }
 ],
 "metadata": {
  "kernelspec": {
   "display_name": "Python 3",
   "language": "python",
   "name": "python3"
  },
  "language_info": {
   "codemirror_mode": {
    "name": "ipython",
    "version": 3
   },
   "file_extension": ".py",
   "mimetype": "text/x-python",
   "name": "python",
   "nbconvert_exporter": "python",
   "pygments_lexer": "ipython3",
   "version": "3.11.4"
  },
  "orig_nbformat": 4
 },
 "nbformat": 4,
 "nbformat_minor": 2
}
