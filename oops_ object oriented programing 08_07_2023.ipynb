{
 "cells": [
  {
   "cell_type": "code",
   "execution_count": 1,
   "id": "b49ad76c",
   "metadata": {},
   "outputs": [
    {
     "data": {
      "text/plain": [
       "int"
      ]
     },
     "execution_count": 1,
     "metadata": {},
     "output_type": "execute_result"
    }
   ],
   "source": [
    "a=1\n",
    "type(a)"
   ]
  },
  {
   "cell_type": "code",
   "execution_count": 2,
   "id": "1e0661ec",
   "metadata": {},
   "outputs": [
    {
     "name": "stdout",
     "output_type": "stream",
     "text": [
      "<class 'int'>\n"
     ]
    }
   ],
   "source": [
    "print(type(a))"
   ]
  },
  {
   "cell_type": "code",
   "execution_count": 3,
   "id": "66cd4d5b",
   "metadata": {},
   "outputs": [],
   "source": [
    "a1=\"pwskills\""
   ]
  },
  {
   "cell_type": "code",
   "execution_count": 4,
   "id": "a08b8e51",
   "metadata": {},
   "outputs": [
    {
     "data": {
      "text/plain": [
       "'pwskills'"
      ]
     },
     "execution_count": 4,
     "metadata": {},
     "output_type": "execute_result"
    }
   ],
   "source": [
    "a1"
   ]
  },
  {
   "cell_type": "code",
   "execution_count": 5,
   "id": "4052cff1",
   "metadata": {},
   "outputs": [
    {
     "name": "stdout",
     "output_type": "stream",
     "text": [
      "<class 'str'>\n"
     ]
    }
   ],
   "source": [
    "print(type(a1))"
   ]
  },
  {
   "cell_type": "code",
   "execution_count": 6,
   "id": "fad05b7e",
   "metadata": {},
   "outputs": [],
   "source": [
    "class test:\n",
    "    pass"
   ]
  },
  {
   "cell_type": "code",
   "execution_count": 7,
   "id": "721c510e",
   "metadata": {},
   "outputs": [],
   "source": [
    "a=test()"
   ]
  },
  {
   "cell_type": "code",
   "execution_count": 9,
   "id": "aec9fb55",
   "metadata": {},
   "outputs": [
    {
     "data": {
      "text/plain": [
       "__main__.test"
      ]
     },
     "execution_count": 9,
     "metadata": {},
     "output_type": "execute_result"
    }
   ],
   "source": [
    "type(a)"
   ]
  },
  {
   "cell_type": "code",
   "execution_count": 10,
   "id": "720a32bc",
   "metadata": {},
   "outputs": [],
   "source": [
    "class pwskills:\n",
    "    def welcome_msg(self):\n",
    "        print(\"welcome to pwskills\")"
   ]
  },
  {
   "cell_type": "code",
   "execution_count": 11,
   "id": "052d3ac6",
   "metadata": {},
   "outputs": [],
   "source": [
    "sam=pwskills()"
   ]
  },
  {
   "cell_type": "code",
   "execution_count": 13,
   "id": "46056ac2",
   "metadata": {},
   "outputs": [
    {
     "name": "stdout",
     "output_type": "stream",
     "text": [
      "<class '__main__.pwskills'>\n"
     ]
    }
   ],
   "source": [
    "print(type(sam))"
   ]
  },
  {
   "cell_type": "code",
   "execution_count": 15,
   "id": "573464cd",
   "metadata": {},
   "outputs": [
    {
     "name": "stdout",
     "output_type": "stream",
     "text": [
      "welcome to pwskills\n"
     ]
    }
   ],
   "source": [
    "sam.welcome_msg()"
   ]
  },
  {
   "cell_type": "code",
   "execution_count": 23,
   "id": "a4c0cd10",
   "metadata": {},
   "outputs": [],
   "source": [
    "class pwskills1:\n",
    "    \n",
    "    def __init__(self,phone_numbar,email_id,student_id):\n",
    "        self.phone_number=phone_numbar\n",
    "        self.email_id=email_id\n",
    "        self.student_id=student_id\n",
    "        \n",
    "    def return_student_deetilas(self):\n",
    "        return self.student_id, self.email_id,self.phone_numbere"
   ]
  },
  {
   "cell_type": "code",
   "execution_count": 25,
   "id": "f0e661a4",
   "metadata": {},
   "outputs": [],
   "source": [
    "jay=pwskills1(1242232,'jay@gmail.com',1424)"
   ]
  },
  {
   "cell_type": "code",
   "execution_count": 26,
   "id": "0fd239b5",
   "metadata": {},
   "outputs": [
    {
     "data": {
      "text/plain": [
       "1242232"
      ]
     },
     "execution_count": 26,
     "metadata": {},
     "output_type": "execute_result"
    }
   ],
   "source": [
    "jay.phone_number"
   ]
  },
  {
   "cell_type": "code",
   "execution_count": 27,
   "id": "2ac746a8",
   "metadata": {},
   "outputs": [
    {
     "data": {
      "text/plain": [
       "'jay@gmail.com'"
      ]
     },
     "execution_count": 27,
     "metadata": {},
     "output_type": "execute_result"
    }
   ],
   "source": [
    "jay.email_id"
   ]
  },
  {
   "cell_type": "code",
   "execution_count": 106,
   "id": "afb65bfb",
   "metadata": {},
   "outputs": [],
   "source": [
    "class prasnal_deel:\n",
    "    \n",
    "    def __init__(self,last_name,first_name,age,mob_num,meil_id):\n",
    "        \n",
    "        self.last_name=last_name\n",
    "        self.first_name=first_name\n",
    "        self.age=age\n",
    "        self.mob_num=mob_num\n",
    "        self.meil_id=meil_id\n",
    "        \n",
    "    def print(self):\n",
    "         return f\"my name is:{self.last_name},my last name is:{self.first_name},my age:{self.age},my mob num:{silf.mob_num},my id:{self.meil_id}\"\n",
    "         return self.last_name, self.first_name,self.age,self.mob_num,self.meil_id\n",
    "       "
   ]
  },
  {
   "cell_type": "code",
   "execution_count": 107,
   "id": "72ab8bbd",
   "metadata": {},
   "outputs": [],
   "source": [
    "sita=prasnal_deel('jadhav','jay',28,9637814797,'jay@gmail.com')"
   ]
  },
  {
   "cell_type": "code",
   "execution_count": 108,
   "id": "252aa480",
   "metadata": {},
   "outputs": [
    {
     "ename": "NameError",
     "evalue": "name 'silf' is not defined",
     "output_type": "error",
     "traceback": [
      "\u001b[1;31m---------------------------------------------------------------------------\u001b[0m",
      "\u001b[1;31mNameError\u001b[0m                                 Traceback (most recent call last)",
      "Cell \u001b[1;32mIn[108], line 1\u001b[0m\n\u001b[1;32m----> 1\u001b[0m \u001b[43msita\u001b[49m\u001b[38;5;241;43m.\u001b[39;49m\u001b[43mprint\u001b[49m\u001b[43m(\u001b[49m\u001b[43m)\u001b[49m\n",
      "Cell \u001b[1;32mIn[106], line 12\u001b[0m, in \u001b[0;36mprasnal_deel.print\u001b[1;34m(self)\u001b[0m\n\u001b[0;32m     11\u001b[0m \u001b[38;5;28;01mdef\u001b[39;00m \u001b[38;5;21mprint\u001b[39m(\u001b[38;5;28mself\u001b[39m):\n\u001b[1;32m---> 12\u001b[0m      \u001b[38;5;28;01mreturn\u001b[39;00m \u001b[38;5;124mf\u001b[39m\u001b[38;5;124m\"\u001b[39m\u001b[38;5;124mmy name is:\u001b[39m\u001b[38;5;132;01m{\u001b[39;00m\u001b[38;5;28mself\u001b[39m\u001b[38;5;241m.\u001b[39mlast_name\u001b[38;5;132;01m}\u001b[39;00m\u001b[38;5;124m,my last name is:\u001b[39m\u001b[38;5;132;01m{\u001b[39;00m\u001b[38;5;28mself\u001b[39m\u001b[38;5;241m.\u001b[39mfirst_name\u001b[38;5;132;01m}\u001b[39;00m\u001b[38;5;124m,my age:\u001b[39m\u001b[38;5;132;01m{\u001b[39;00m\u001b[38;5;28mself\u001b[39m\u001b[38;5;241m.\u001b[39mage\u001b[38;5;132;01m}\u001b[39;00m\u001b[38;5;124m,my mob num:\u001b[39m\u001b[38;5;132;01m{\u001b[39;00msilf\u001b[38;5;241m.\u001b[39mmob_num\u001b[38;5;132;01m}\u001b[39;00m\u001b[38;5;124m,my id:\u001b[39m\u001b[38;5;132;01m{\u001b[39;00m\u001b[38;5;28mself\u001b[39m\u001b[38;5;241m.\u001b[39mmeil_id\u001b[38;5;132;01m}\u001b[39;00m\u001b[38;5;124m\"\u001b[39m\n",
      "\u001b[1;31mNameError\u001b[0m: name 'silf' is not defined"
     ]
    }
   ],
   "source": [
    "sita.print()"
   ]
  },
  {
   "cell_type": "code",
   "execution_count": null,
   "id": "1daa9052",
   "metadata": {},
   "outputs": [],
   "source": []
  },
  {
   "cell_type": "code",
   "execution_count": 97,
   "id": "0d2e851b",
   "metadata": {},
   "outputs": [
    {
     "data": {
      "text/plain": [
       "'jadhav'"
      ]
     },
     "execution_count": 97,
     "metadata": {},
     "output_type": "execute_result"
    }
   ],
   "source": [
    "sita.last_name"
   ]
  },
  {
   "cell_type": "code",
   "execution_count": 98,
   "id": "7704694b",
   "metadata": {},
   "outputs": [
    {
     "data": {
      "text/plain": [
       "'jay'"
      ]
     },
     "execution_count": 98,
     "metadata": {},
     "output_type": "execute_result"
    }
   ],
   "source": [
    "sita.first_name"
   ]
  },
  {
   "cell_type": "code",
   "execution_count": null,
   "id": "8e4f842d",
   "metadata": {},
   "outputs": [],
   "source": [
    "\n"
   ]
  },
  {
   "cell_type": "code",
   "execution_count": null,
   "id": "e229f111",
   "metadata": {},
   "outputs": [],
   "source": []
  }
 ],
 "metadata": {
  "kernelspec": {
   "display_name": "Python 3 (ipykernel)",
   "language": "python",
   "name": "python3"
  },
  "language_info": {
   "codemirror_mode": {
    "name": "ipython",
    "version": 3
   },
   "file_extension": ".py",
   "mimetype": "text/x-python",
   "name": "python",
   "nbconvert_exporter": "python",
   "pygments_lexer": "ipython3",
   "version": "3.10.9"
  }
 },
 "nbformat": 4,
 "nbformat_minor": 5
}
